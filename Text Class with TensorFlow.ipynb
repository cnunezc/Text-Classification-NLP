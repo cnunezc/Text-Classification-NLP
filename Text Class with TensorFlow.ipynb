{
 "cells": [
  {
   "cell_type": "code",
   "execution_count": 1,
   "id": "04332f88",
   "metadata": {},
   "outputs": [],
   "source": [
    "import numpy as np\n",
    "import pandas as pd\n",
    "import matplotlib.pyplot as plt\n",
    "\n",
    "import tensorflow as tf\n",
    "import tensorflow_hub as hub"
   ]
  },
  {
   "cell_type": "code",
   "execution_count": 2,
   "id": "6a68d310",
   "metadata": {},
   "outputs": [],
   "source": [
    "df = pd.read_csv(\"MoviesPlot.csv\", usecols = ['Plot','imdbRating'])"
   ]
  },
  {
   "cell_type": "code",
   "execution_count": 3,
   "id": "4ca7a609",
   "metadata": {},
   "outputs": [
    {
     "data": {
      "text/html": [
       "<div>\n",
       "<style scoped>\n",
       "    .dataframe tbody tr th:only-of-type {\n",
       "        vertical-align: middle;\n",
       "    }\n",
       "\n",
       "    .dataframe tbody tr th {\n",
       "        vertical-align: top;\n",
       "    }\n",
       "\n",
       "    .dataframe thead th {\n",
       "        text-align: right;\n",
       "    }\n",
       "</style>\n",
       "<table border=\"1\" class=\"dataframe\">\n",
       "  <thead>\n",
       "    <tr style=\"text-align: right;\">\n",
       "      <th></th>\n",
       "      <th>Plot</th>\n",
       "      <th>imdbRating</th>\n",
       "    </tr>\n",
       "  </thead>\n",
       "  <tbody>\n",
       "    <tr>\n",
       "      <th>0</th>\n",
       "      <td>Story of Ned Kelly, an infamous 19th-century A...</td>\n",
       "      <td>6.0</td>\n",
       "    </tr>\n",
       "    <tr>\n",
       "      <th>1</th>\n",
       "      <td>Hamlet suspects his uncle has murdered his fat...</td>\n",
       "      <td>3.2</td>\n",
       "    </tr>\n",
       "    <tr>\n",
       "      <th>2</th>\n",
       "      <td>A self-proclaimed \"knight\" and his hapless squ...</td>\n",
       "      <td>4.8</td>\n",
       "    </tr>\n",
       "    <tr>\n",
       "      <th>3</th>\n",
       "      <td>L. Frank Baum would appear in a white suit and...</td>\n",
       "      <td>5.2</td>\n",
       "    </tr>\n",
       "    <tr>\n",
       "      <th>4</th>\n",
       "      <td>The plumber Coupeau run into the lovable Gerva...</td>\n",
       "      <td>4.5</td>\n",
       "    </tr>\n",
       "  </tbody>\n",
       "</table>\n",
       "</div>"
      ],
      "text/plain": [
       "                                                Plot  imdbRating\n",
       "0  Story of Ned Kelly, an infamous 19th-century A...         6.0\n",
       "1  Hamlet suspects his uncle has murdered his fat...         3.2\n",
       "2  A self-proclaimed \"knight\" and his hapless squ...         4.8\n",
       "3  L. Frank Baum would appear in a white suit and...         5.2\n",
       "4  The plumber Coupeau run into the lovable Gerva...         4.5"
      ]
     },
     "execution_count": 3,
     "metadata": {},
     "output_type": "execute_result"
    }
   ],
   "source": [
    "df.head()"
   ]
  },
  {
   "cell_type": "code",
   "execution_count": 7,
   "id": "7a530c5f",
   "metadata": {},
   "outputs": [],
   "source": [
    "#df = df.dropna(subset=[\"description\", \"points\"])"
   ]
  },
  {
   "cell_type": "code",
   "execution_count": 5,
   "id": "0201f729",
   "metadata": {},
   "outputs": [
    {
     "data": {
      "image/png": "[encoded data removed]",
      "text/plain": [
       "<Figure size 432x288 with 1 Axes>"
      ]
     },
     "metadata": {
      "needs_background": "light"
     },
     "output_type": "display_data"
    }
   ],
   "source": [
    "plt.hist(df.imdbRating, bins=20)\n",
    "plt.title(\"IMDB Rating\")\n",
    "plt.ylabel(\"N\")\n",
    "plt.xlabel(\"Rating\")\n",
    "plt.show()"
   ]
  },
  {
   "cell_type": "code",
   "execution_count": 6,
   "id": "a8f9b71d",
   "metadata": {},
   "outputs": [],
   "source": [
    "df[\"label\"] = (df.imdbRating >= 7).astype(int)"
   ]
  },
  {
   "cell_type": "code",
   "execution_count": 7,
   "id": "629d6023",
   "metadata": {},
   "outputs": [
    {
     "data": {
      "text/html": [
       "<div>\n",
       "<style scoped>\n",
       "    .dataframe tbody tr th:only-of-type {\n",
       "        vertical-align: middle;\n",
       "    }\n",
       "\n",
       "    .dataframe tbody tr th {\n",
       "        vertical-align: top;\n",
       "    }\n",
       "\n",
       "    .dataframe thead th {\n",
       "        text-align: right;\n",
       "    }\n",
       "</style>\n",
       "<table border=\"1\" class=\"dataframe\">\n",
       "  <thead>\n",
       "    <tr style=\"text-align: right;\">\n",
       "      <th></th>\n",
       "      <th>Plot</th>\n",
       "      <th>imdbRating</th>\n",
       "      <th>label</th>\n",
       "    </tr>\n",
       "  </thead>\n",
       "  <tbody>\n",
       "    <tr>\n",
       "      <th>0</th>\n",
       "      <td>Story of Ned Kelly, an infamous 19th-century A...</td>\n",
       "      <td>6.0</td>\n",
       "      <td>0</td>\n",
       "    </tr>\n",
       "    <tr>\n",
       "      <th>1</th>\n",
       "      <td>Hamlet suspects his uncle has murdered his fat...</td>\n",
       "      <td>3.2</td>\n",
       "      <td>0</td>\n",
       "    </tr>\n",
       "    <tr>\n",
       "      <th>2</th>\n",
       "      <td>A self-proclaimed \"knight\" and his hapless squ...</td>\n",
       "      <td>4.8</td>\n",
       "      <td>0</td>\n",
       "    </tr>\n",
       "    <tr>\n",
       "      <th>3</th>\n",
       "      <td>L. Frank Baum would appear in a white suit and...</td>\n",
       "      <td>5.2</td>\n",
       "      <td>0</td>\n",
       "    </tr>\n",
       "    <tr>\n",
       "      <th>4</th>\n",
       "      <td>The plumber Coupeau run into the lovable Gerva...</td>\n",
       "      <td>4.5</td>\n",
       "      <td>0</td>\n",
       "    </tr>\n",
       "    <tr>\n",
       "      <th>...</th>\n",
       "      <td>...</td>\n",
       "      <td>...</td>\n",
       "      <td>...</td>\n",
       "    </tr>\n",
       "    <tr>\n",
       "      <th>215899</th>\n",
       "      <td>60-year-old Nils longs for an independent life...</td>\n",
       "      <td>6.5</td>\n",
       "      <td>0</td>\n",
       "    </tr>\n",
       "    <tr>\n",
       "      <th>215900</th>\n",
       "      <td>When a Japanese restaurant is extorted by the ...</td>\n",
       "      <td>3.6</td>\n",
       "      <td>0</td>\n",
       "    </tr>\n",
       "    <tr>\n",
       "      <th>215901</th>\n",
       "      <td>Dj Steph is a young radio deejay on the rise, ...</td>\n",
       "      <td>5.8</td>\n",
       "      <td>0</td>\n",
       "    </tr>\n",
       "    <tr>\n",
       "      <th>215902</th>\n",
       "      <td>Basque Country, 1609. The men of the region ar...</td>\n",
       "      <td>6.4</td>\n",
       "      <td>0</td>\n",
       "    </tr>\n",
       "    <tr>\n",
       "      <th>215903</th>\n",
       "      <td>Based on historical events, \"Red China\" tells ...</td>\n",
       "      <td>3.8</td>\n",
       "      <td>0</td>\n",
       "    </tr>\n",
       "  </tbody>\n",
       "</table>\n",
       "<p>215904 rows × 3 columns</p>\n",
       "</div>"
      ],
      "text/plain": [
       "                                                     Plot  imdbRating  label\n",
       "0       Story of Ned Kelly, an infamous 19th-century A...         6.0      0\n",
       "1       Hamlet suspects his uncle has murdered his fat...         3.2      0\n",
       "2       A self-proclaimed \"knight\" and his hapless squ...         4.8      0\n",
       "3       L. Frank Baum would appear in a white suit and...         5.2      0\n",
       "4       The plumber Coupeau run into the lovable Gerva...         4.5      0\n",
       "...                                                   ...         ...    ...\n",
       "215899  60-year-old Nils longs for an independent life...         6.5      0\n",
       "215900  When a Japanese restaurant is extorted by the ...         3.6      0\n",
       "215901  Dj Steph is a young radio deejay on the rise, ...         5.8      0\n",
       "215902  Basque Country, 1609. The men of the region ar...         6.4      0\n",
       "215903  Based on historical events, \"Red China\" tells ...         3.8      0\n",
       "\n",
       "[215904 rows x 3 columns]"
      ]
     },
     "execution_count": 7,
     "metadata": {},
     "output_type": "execute_result"
    }
   ],
   "source": [
    "df"
   ]
  },
  {
   "cell_type": "code",
   "execution_count": 29,
   "id": "546feefd",
   "metadata": {},
   "outputs": [
    {
     "data": {
      "image/png": "[encoded data removed]",
      "text/plain": [
       "<Figure size 432x288 with 1 Axes>"
      ]
     },
     "metadata": {
      "needs_background": "light"
     },
     "output_type": "display_data"
    }
   ],
   "source": [
    "plt.hist(df.label, bins=20)\n",
    "plt.title(\"IMDB Rating\")\n",
    "plt.ylabel(\"N\")\n",
    "plt.xlabel(\"Rating\")\n",
    "plt.show()"
   ]
  },
  {
   "cell_type": "code",
   "execution_count": 8,
   "id": "36ee525d",
   "metadata": {},
   "outputs": [],
   "source": [
    "train, val, test = np.split(df.sample(frac=1), [int(0.7*len(df)), int(0.85*len(df))])"
   ]
  },
  {
   "cell_type": "code",
   "execution_count": 11,
   "id": "567da5ad",
   "metadata": {},
   "outputs": [],
   "source": [
    "def df_to_dataset(dataframe, shuffle=True, batch_size=1024):\n",
    "  df = dataframe.copy()\n",
    "  labels = df.pop('label')\n",
    "  #dataframe now\n",
    "  df = df[\"Plot\"]\n",
    "  ds = tf.data.Dataset.from_tensor_slices((df, labels))\n",
    "  if shuffle:\n",
    "    ds = ds.shuffle(buffer_size=len(dataframe))\n",
    "  ds = ds.batch(batch_size)\n",
    "  ds = ds.prefetch(tf.data.AUTOTUNE)\n",
    "  return ds"
   ]
  },
  {
   "cell_type": "code",
   "execution_count": 12,
   "id": "c3590490",
   "metadata": {},
   "outputs": [],
   "source": [
    "train_data = df_to_dataset(train)\n",
    "valid_data = df_to_dataset(val)\n",
    "test_data = df_to_dataset(test)"
   ]
  },
  {
   "cell_type": "markdown",
   "id": "2656ed9c",
   "metadata": {},
   "source": [
    "# Pre-Trained Model Embedding"
   ]
  },
  {
   "cell_type": "code",
   "execution_count": 13,
   "id": "3a210e86",
   "metadata": {},
   "outputs": [],
   "source": [
    "embedding = \"https://tfhub.dev/google/nnlm-en-dim50/2\"\n",
    "hub_layer = hub.KerasLayer(embedding, dtype=tf.string, trainable=True)"
   ]
  },
  {
   "cell_type": "code",
   "execution_count": 14,
   "id": "962acefc",
   "metadata": {},
   "outputs": [
    {
     "data": {
      "text/plain": [
       "<tf.Tensor: shape=(1024, 50), dtype=float32, numpy=\n",
       "array([[ 0.51636565,  0.08763389,  0.2562345 , ...,  0.02779502,\n",
       "        -0.15499546,  0.08287886],\n",
       "       [ 0.25367826, -0.06872955, -0.03970442, ...,  0.04139119,\n",
       "         0.04548446, -0.05387019],\n",
       "       [ 0.6390052 , -0.178707  ,  0.269199  , ...,  0.12674703,\n",
       "        -0.17152116,  0.01662548],\n",
       "       ...,\n",
       "       [ 0.16088551,  0.28730434,  0.37230465, ..., -0.03463636,\n",
       "         0.26081973, -0.18007232],\n",
       "       [ 0.41302952,  0.03641953, -0.13648862, ..., -0.0477592 ,\n",
       "         0.01905874,  0.01994701],\n",
       "       [ 0.24376418,  0.09283273, -0.1879228 , ..., -0.15731306,\n",
       "        -0.41595733, -0.07222372]], dtype=float32)>"
      ]
     },
     "execution_count": 14,
     "metadata": {},
     "output_type": "execute_result"
    }
   ],
   "source": [
    "hub_layer(list(train_data)[0][0])"
   ]
  },
  {
   "cell_type": "code",
   "execution_count": 15,
   "id": "92ab1c5f",
   "metadata": {},
   "outputs": [],
   "source": [
    "model = tf.keras.Sequential()\n",
    "model.add(hub_layer)\n",
    "model.add(tf.keras.layers.Dense(16, activation='relu'))\n",
    "model.add(tf.keras.layers.Dropout(0.4))\n",
    "model.add(tf.keras.layers.Dense(16, activation='relu'))\n",
    "model.add(tf.keras.layers.Dropout(0.4))\n",
    "model.add(tf.keras.layers.Dense(1, activation='sigmoid'))"
   ]
  },
  {
   "cell_type": "code",
   "execution_count": 16,
   "id": "572e5073",
   "metadata": {},
   "outputs": [],
   "source": [
    "model.compile(optimizer=tf.keras.optimizers.Adam(learning_rate=0.001),\n",
    "              loss=tf.keras.losses.BinaryCrossentropy(),\n",
    "              metrics=['accuracy'])"
   ]
  },
  {
   "cell_type": "code",
   "execution_count": 17,
   "id": "61106638",
   "metadata": {},
   "outputs": [
    {
     "name": "stdout",
     "output_type": "stream",
     "text": [
      "148/148 [==============================] - 1s 6ms/step - loss: 0.6610 - accuracy: 0.7192\n"
     ]
    },
    {
     "data": {
      "text/plain": [
       "[0.6609598994255066, 0.7191792726516724]"
      ]
     },
     "execution_count": 17,
     "metadata": {},
     "output_type": "execute_result"
    }
   ],
   "source": [
    "model.evaluate(train_data)"
   ]
  },
  {
   "cell_type": "code",
   "execution_count": 18,
   "id": "3e2115d0",
   "metadata": {},
   "outputs": [
    {
     "name": "stdout",
     "output_type": "stream",
     "text": [
      "32/32 [==============================] - 0s 6ms/step - loss: 0.6609 - accuracy: 0.7215\n"
     ]
    },
    {
     "data": {
      "text/plain": [
       "[0.6608750820159912, 0.7214846014976501]"
      ]
     },
     "execution_count": 18,
     "metadata": {},
     "output_type": "execute_result"
    }
   ],
   "source": [
    "model.evaluate(valid_data)"
   ]
  },
  {
   "cell_type": "code",
   "execution_count": 19,
   "id": "97f00528",
   "metadata": {},
   "outputs": [
    {
     "name": "stdout",
     "output_type": "stream",
     "text": [
      "Epoch 1/7\n",
      "148/148 [==============================] - 38s 253ms/step - loss: 0.5838 - accuracy: 0.7303 - val_loss: 0.5487 - val_accuracy: 0.7344\n",
      "Epoch 2/7\n",
      "148/148 [==============================] - 39s 266ms/step - loss: 0.5430 - accuracy: 0.7392 - val_loss: 0.5328 - val_accuracy: 0.7486\n",
      "Epoch 3/7\n",
      "148/148 [==============================] - 42s 282ms/step - loss: 0.5121 - accuracy: 0.7547 - val_loss: 0.5330 - val_accuracy: 0.7482\n",
      "Epoch 4/7\n",
      "148/148 [==============================] - 42s 281ms/step - loss: 0.4796 - accuracy: 0.7752 - val_loss: 0.5476 - val_accuracy: 0.7399\n",
      "Epoch 5/7\n",
      "148/148 [==============================] - 42s 283ms/step - loss: 0.4460 - accuracy: 0.7949 - val_loss: 0.5770 - val_accuracy: 0.7281\n",
      "Epoch 6/7\n",
      "148/148 [==============================] - 42s 284ms/step - loss: 0.4125 - accuracy: 0.8138 - val_loss: 0.6143 - val_accuracy: 0.7278\n",
      "Epoch 7/7\n",
      "148/148 [==============================] - 42s 287ms/step - loss: 0.3826 - accuracy: 0.8286 - val_loss: 0.6553 - val_accuracy: 0.7201\n"
     ]
    }
   ],
   "source": [
    "history = model.fit(train_data, epochs=7, validation_data=valid_data)"
   ]
  },
  {
   "cell_type": "code",
   "execution_count": 20,
   "id": "98b7defb",
   "metadata": {},
   "outputs": [
    {
     "data": {
      "image/png": "[encoded data removed]",
      "text/plain": [
       "<Figure size 432x288 with 1 Axes>"
      ]
     },
     "metadata": {
      "needs_background": "light"
     },
     "output_type": "display_data"
    },
    {
     "data": {
      "image/png": "[encoded data removed]",
      "text/plain": [
       "<Figure size 432x288 with 1 Axes>"
      ]
     },
     "metadata": {
      "needs_background": "light"
     },
     "output_type": "display_data"
    }
   ],
   "source": [
    "import matplotlib.pyplot as plt\n",
    "accuracy = history.history[\"accuracy\"]\n",
    "val_accuracy = history.history[\"val_accuracy\"]\n",
    "loss = history.history[\"loss\"]\n",
    "val_loss = history.history[\"val_loss\"]\n",
    "epochs = range(1, len(accuracy) + 1)\n",
    "plt.plot(epochs, accuracy, \"bo\", label=\"Training accuracy\")\n",
    "plt.plot(epochs, val_accuracy, \"b\", label=\"Validation accuracy\")\n",
    "plt.title(\"Training and validation accuracy\")\n",
    "plt.legend()\n",
    "plt.figure()\n",
    "plt.plot(epochs, loss, \"bo\", label=\"Training loss\")\n",
    "plt.plot(epochs, val_loss, \"b\", label=\"Validation loss\")\n",
    "plt.title(\"Training and validation loss\")\n",
    "plt.legend()\n",
    "plt.show()"
   ]
  },
  {
   "cell_type": "code",
   "execution_count": null,
   "id": "13cc35db",
   "metadata": {},
   "outputs": [],
   "source": [
    "# It is observable that overfitting occurred after epoch 3."
   ]
  },
  {
   "cell_type": "code",
   "execution_count": 21,
   "id": "7fa6a14f",
   "metadata": {},
   "outputs": [
    {
     "name": "stdout",
     "output_type": "stream",
     "text": [
      "32/32 [==============================] - 2s 48ms/step - loss: 0.6610 - accuracy: 0.7183\n"
     ]
    },
    {
     "data": {
      "text/plain": [
       "[0.6609737277030945, 0.7183042168617249]"
      ]
     },
     "execution_count": 21,
     "metadata": {},
     "output_type": "execute_result"
    }
   ],
   "source": [
    "model.evaluate(test_data)"
   ]
  },
  {
   "cell_type": "markdown",
   "id": "a5442d6a",
   "metadata": {},
   "source": [
    "# LTSM"
   ]
  },
  {
   "cell_type": "code",
   "execution_count": 22,
   "id": "3fc09c20",
   "metadata": {},
   "outputs": [],
   "source": [
    "# Max tokens: Number of words to remember\n",
    "encoder = tf.keras.layers.TextVectorization(max_tokens=2000)\n",
    "encoder.adapt(train_data.map(lambda text, label: text))"
   ]
  },
  {
   "cell_type": "code",
   "execution_count": 23,
   "id": "a96d646e",
   "metadata": {},
   "outputs": [
    {
     "data": {
      "text/plain": [
       "array(['', '[UNK]', 'the', 'a', 'of', 'to', 'and', 'in', 'is', 'his',\n",
       "       'with', 'her', 'an', 'he', 'for', 'on', 'who', 'by', 'their',\n",
       "       'from'], dtype='<U13')"
      ]
     },
     "execution_count": 23,
     "metadata": {},
     "output_type": "execute_result"
    }
   ],
   "source": [
    "vocab = np.array(encoder.get_vocabulary())\n",
    "vocab[:20]"
   ]
  },
  {
   "cell_type": "code",
   "execution_count": 24,
   "id": "d1a9dfd6",
   "metadata": {},
   "outputs": [],
   "source": [
    "model = tf.keras.Sequential([\n",
    "    encoder,\n",
    "    tf.keras.layers.Embedding(\n",
    "        input_dim=len(encoder.get_vocabulary()),\n",
    "        output_dim=32,\n",
    "        mask_zero=True\n",
    "    ),\n",
    "    tf.keras.layers.LSTM(32),\n",
    "    tf.keras.layers.Dense(32, activation='relu'),\n",
    "    tf.keras.layers.Dropout(0.4),\n",
    "    tf.keras.layers.Dense(1, activation='sigmoid')\n",
    "])"
   ]
  },
  {
   "cell_type": "code",
   "execution_count": 25,
   "id": "04d71bf9",
   "metadata": {},
   "outputs": [],
   "source": [
    "model.compile(optimizer=tf.keras.optimizers.Adam(learning_rate=0.001),\n",
    "              loss=tf.keras.losses.BinaryCrossentropy(),\n",
    "              metrics=['accuracy'])"
   ]
  },
  {
   "cell_type": "code",
   "execution_count": 26,
   "id": "d189ede7",
   "metadata": {},
   "outputs": [
    {
     "name": "stdout",
     "output_type": "stream",
     "text": [
      "Epoch 1/7\n",
      "148/148 [==============================] - 40s 254ms/step - loss: 0.5777 - accuracy: 0.7343 - val_loss: 0.5372 - val_accuracy: 0.7480\n",
      "Epoch 2/7\n",
      "148/148 [==============================] - 38s 260ms/step - loss: 0.5383 - accuracy: 0.7496 - val_loss: 0.5338 - val_accuracy: 0.7512\n",
      "Epoch 3/7\n",
      "148/148 [==============================] - 46s 302ms/step - loss: 0.5320 - accuracy: 0.7522 - val_loss: 0.5329 - val_accuracy: 0.7508\n",
      "Epoch 4/7\n",
      "148/148 [==============================] - 48s 323ms/step - loss: 0.5293 - accuracy: 0.7542 - val_loss: 0.5368 - val_accuracy: 0.7495\n",
      "Epoch 5/7\n",
      "148/148 [==============================] - 49s 329ms/step - loss: 0.5267 - accuracy: 0.7553 - val_loss: 0.5350 - val_accuracy: 0.7483\n",
      "Epoch 6/7\n",
      "148/148 [==============================] - 64s 434ms/step - loss: 0.5246 - accuracy: 0.7561 - val_loss: 0.5366 - val_accuracy: 0.7489\n",
      "Epoch 7/7\n",
      "148/148 [==============================] - 50s 334ms/step - loss: 0.5215 - accuracy: 0.7572 - val_loss: 0.5356 - val_accuracy: 0.7499\n"
     ]
    }
   ],
   "source": [
    "history = model.fit(train_data, epochs=7, validation_data=valid_data)"
   ]
  },
  {
   "cell_type": "code",
   "execution_count": 27,
   "id": "7013cfe9",
   "metadata": {},
   "outputs": [
    {
     "data": {
      "image/png": "[encoded data removed]",
      "text/plain": [
       "<Figure size 432x288 with 1 Axes>"
      ]
     },
     "metadata": {
      "needs_background": "light"
     },
     "output_type": "display_data"
    },
    {
     "data": {
      "image/png": "[encoded data removed]",
      "text/plain": [
       "<Figure size 432x288 with 1 Axes>"
      ]
     },
     "metadata": {
      "needs_background": "light"
     },
     "output_type": "display_data"
    }
   ],
   "source": [
    "import matplotlib.pyplot as plt\n",
    "accuracy = history.history[\"accuracy\"]\n",
    "val_accuracy = history.history[\"val_accuracy\"]\n",
    "loss = history.history[\"loss\"]\n",
    "val_loss = history.history[\"val_loss\"]\n",
    "epochs = range(1, len(accuracy) + 1)\n",
    "plt.plot(epochs, accuracy, \"bo\", label=\"Training accuracy\")\n",
    "plt.plot(epochs, val_accuracy, \"b\", label=\"Validation accuracy\")\n",
    "plt.title(\"Training and validation accuracy\")\n",
    "plt.legend()\n",
    "plt.figure()\n",
    "plt.plot(epochs, loss, \"bo\", label=\"Training loss\")\n",
    "plt.plot(epochs, val_loss, \"b\", label=\"Validation loss\")\n",
    "plt.title(\"Training and validation loss\")\n",
    "plt.legend()\n",
    "plt.show()"
   ]
  },
  {
   "cell_type": "code",
   "execution_count": 28,
   "id": "f3491aac",
   "metadata": {},
   "outputs": [
    {
     "name": "stdout",
     "output_type": "stream",
     "text": [
      "32/32 [==============================] - 3s 97ms/step - loss: 0.5366 - accuracy: 0.7484\n"
     ]
    },
    {
     "data": {
      "text/plain": [
       "[0.5366024374961853, 0.748440682888031]"
      ]
     },
     "execution_count": 28,
     "metadata": {},
     "output_type": "execute_result"
    }
   ],
   "source": [
    "model.evaluate(test_data)"
   ]
  }
 ],
 "metadata": {
  "kernelspec": {
   "display_name": "Python 3 (ipykernel)",
   "language": "python",
   "name": "python3"
  },
  "language_info": {
   "codemirror_mode": {
    "name": "ipython",
    "version": 3
   },
   "file_extension": ".py",
   "mimetype": "text/x-python",
   "name": "python",
   "nbconvert_exporter": "python",
   "pygments_lexer": "ipython3",
   "version": "3.9.12"
  }
 },
 "nbformat": 4,
 "nbformat_minor": 5
}
